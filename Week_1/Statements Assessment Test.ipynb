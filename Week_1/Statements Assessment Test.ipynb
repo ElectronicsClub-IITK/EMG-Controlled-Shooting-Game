{
  "cells": [
    {
      "cell_type": "markdown",
      "metadata": {
        "collapsed": true,
        "id": "14X30-PUG_Km"
      },
      "source": [
        "# Statements Assessment Test\n",
        "Let's test your knowledge!"
      ]
    },
    {
      "cell_type": "markdown",
      "metadata": {
        "id": "iHeNzkHcG_Km"
      },
      "source": [
        "_____\n",
        "**Use <code>for</code>, .split(), and <code>if</code> to create a Statement that will print out words that start with 's':**"
      ]
    },
    {
      "cell_type": "code",
      "execution_count": null,
      "metadata": {
        "id": "GU-IdFOnG_Kn"
      },
      "outputs": [],
      "source": [
        "st = 'Print only the words that start with s in this sentence'"
      ]
    },
    {
      "cell_type": "code",
      "execution_count": null,
      "metadata": {
        "id": "QQ9XrZfiG_Kn"
      },
      "outputs": [],
      "source": [
        "st = 'Print only the words that start with s in this sentence'\n",
        "st2 = ''\n",
        "split_st = st.split()\n",
        "for word in split_st:\n",
        "   if word[0] == 's':\n",
        "      st2 = st2 + word + ' '\n",
        "print(st2)"
      ]
    },
    {
      "cell_type": "markdown",
      "metadata": {
        "id": "w3R4R3jdG_Kn"
      },
      "source": [
        "______\n",
        "**Use range() to print all the even numbers from 0 to 10.**"
      ]
    },
    {
      "cell_type": "code",
      "execution_count": null,
      "metadata": {
        "id": "e9pjqtKOG_Kn"
      },
      "outputs": [],
      "source": [
        "for i in range(11):\n",
        "    if i%2 == 0:\n",
        "        print(i)"
      ]
    },
    {
      "cell_type": "markdown",
      "metadata": {
        "id": "pRZr8cN4G_Kn"
      },
      "source": [
        "___\n",
        "**Use a List Comprehension to create a list of all numbers between 1 and 50 that are divisible by 3.**"
      ]
    },
    {
      "cell_type": "code",
      "execution_count": null,
      "metadata": {
        "id": "J6ftwolAG_Kn"
      },
      "outputs": [],
      "source": [
        "divisible_by_3 = [num for num in range(1,51) if num%3 == 0]"
      ]
    },
    {
      "cell_type": "markdown",
      "metadata": {
        "id": "12Pcv7N2G_Kn"
      },
      "source": [
        "_____\n",
        "**Go through the string below and if the length of a word is even print \"even!\"**"
      ]
    },
    {
      "cell_type": "code",
      "execution_count": null,
      "metadata": {
        "id": "JjJIHsQXG_Kn"
      },
      "outputs": [],
      "source": [
        "st = 'Print every word in this sentence that has an even number of letters'"
      ]
    },
    {
      "cell_type": "code",
      "execution_count": null,
      "metadata": {
        "id": "4xZNR0_9G_Kn"
      },
      "outputs": [],
      "source": [
        "st = 'Print every word in this sentence that has an even number of letters'\n",
        "for word in st.split():\n",
        "    if len(word)%2 == 0:\n",
        "        print(\"even!\")"
      ]
    },
    {
      "cell_type": "markdown",
      "metadata": {
        "id": "6_M-RP8oG_Ko"
      },
      "source": [
        "____\n",
        "**Write a program that prints the integers from 1 to 100. But for multiples of three print \"Fizz\" instead of the number, and for the multiples of five print \"Buzz\". For numbers which are multiples of both three and five print \"FizzBuzz\".**"
      ]
    },
    {
      "cell_type": "code",
      "execution_count": null,
      "metadata": {
        "id": "1lqdBmf_G_Ko"
      },
      "outputs": [],
      "source": [
        "for i in range(1, 101):\n",
        "    if i%3 == 0 and i%5 != 0:\n",
        "        print(\"Fizz\")\n",
        "    elif i%3 != 0 and i%5 == 0:\n",
        "        print(\"Buzz\")\n",
        "    elif i%15 == 0:\n",
        "        print(\"FizzBuzz\")\n",
        "    else:\n",
        "        print(i)"
      ]
    },
    {
      "cell_type": "markdown",
      "metadata": {
        "id": "ywW1xGihG_Ko"
      },
      "source": [
        "____\n",
        "**Use List Comprehension to create a list of the first letters of every word in the string below:**"
      ]
    },
    {
      "cell_type": "code",
      "execution_count": null,
      "metadata": {
        "id": "pvgsAKMfG_Ko"
      },
      "outputs": [],
      "source": [
        "st = 'Create a list of the first letters of every word in this string'"
      ]
    },
    {
      "cell_type": "code",
      "execution_count": null,
      "metadata": {
        "id": "rKMKRSH5G_Ko"
      },
      "outputs": [],
      "source": [
        "st = 'Create a list of the first letters of every word in this string'\n",
        "first_letter_list = [word[0] for word in st.split()]"
      ]
    },
    {
      "cell_type": "markdown",
      "metadata": {
        "id": "pAvPyi8KG_Ko"
      },
      "source": [
        "### Great Job!"
      ]
    }
  ],
  "metadata": {
    "kernelspec": {
      "display_name": "Python 3",
      "language": "python",
      "name": "python3"
    },
    "language_info": {
      "codemirror_mode": {
        "name": "ipython",
        "version": 3
      },
      "file_extension": ".py",
      "mimetype": "text/x-python",
      "name": "python",
      "nbconvert_exporter": "python",
      "pygments_lexer": "ipython3",
      "version": "3.6.2"
    },
    "colab": {
      "provenance": []
    }
  },
  "nbformat": 4,
  "nbformat_minor": 0
}
