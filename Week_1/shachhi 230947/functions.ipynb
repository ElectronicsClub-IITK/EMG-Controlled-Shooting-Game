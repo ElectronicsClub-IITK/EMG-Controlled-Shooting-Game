{
 "cells": [
  {
   "cell_type": "markdown",
   "id": "be96244b-585a-4631-8b82-fa0308bcd086",
   "metadata": {},
   "source": [
    "                                WEEK 1 PYTHON ASSIGNMENT"
   ]
  },
  {
   "cell_type": "code",
   "execution_count": 8,
   "id": "b56eca82-5e97-498e-bdaf-6448532a6440",
   "metadata": {},
   "outputs": [
    {
     "data": {
      "text/plain": [
       "'#1\\ndef vol(radius):\\n    pi=3.14\\n    volume= (4/3)*pi*(radius**3)\\n    return volume\\n#check \\nprint(vol(2))'"
      ]
     },
     "execution_count": 8,
     "metadata": {},
     "output_type": "execute_result"
    }
   ],
   "source": [
    "#1\n",
    "def vol(radius):\n",
    "    pi=3.14\n",
    "    volume= (4/3)*pi*(radius**3)\n",
    "    return volume\n",
    "#check \n",
    "print(vol(2))"
   ]
  },
  {
   "cell_type": "code",
   "execution_count": 9,
   "id": "037b79cc-c4e0-4327-8b17-b8d84117f29d",
   "metadata": {},
   "outputs": [
    {
     "data": {
      "text/plain": [
       "True"
      ]
     },
     "execution_count": 9,
     "metadata": {},
     "output_type": "execute_result"
    }
   ],
   "source": [
    "#2\n",
    "def ran_bool(num,low,high):\n",
    "    return bool(low <= num <= high)\n",
    "#check\n",
    "ran_bool(3,1,10)\n"
   ]
  },
  {
   "cell_type": "code",
   "execution_count": 11,
   "id": "c254dc8e-b8c4-4244-b7fe-d3685c5f7f0f",
   "metadata": {},
   "outputs": [
    {
     "name": "stdout",
     "output_type": "stream",
     "text": [
      "upper case letters 3\n",
      "lower case letters 10\n"
     ]
    }
   ],
   "source": [
    "#3\n",
    "def up_low(s):\n",
    "    upcount=0\n",
    "    lowcount=0\n",
    "    for char in s:\n",
    "        if char.isupper():\n",
    "            upcount+=1\n",
    "        elif char.islower():\n",
    "            lowcount+=1\n",
    "    print(\"upper case letters\",upcount)\n",
    "    print(\"lower case letters\",lowcount)\n",
    "#check\n",
    "s=\"Hello , Mr. Rogues!\"\n",
    "up_low(s)\n"
   ]
  },
  {
   "cell_type": "code",
   "execution_count": 23,
   "id": "7be90acc-4a53-4cf6-bb47-ee90fc9f16fb",
   "metadata": {},
   "outputs": [
    {
     "name": "stdout",
     "output_type": "stream",
     "text": [
      "[1, 2, 3, 4, 5]\n"
     ]
    }
   ],
   "source": [
    "#4\n",
    "def unique_list(lst):\n",
    "    l=[]\n",
    "    for i in lst:\n",
    "        if i not in l:\n",
    "            l.append(i)\n",
    "    return l\n",
    "#check\n",
    "lst=[1,1,2,3,4,3,2,5]\n",
    "print(unique_list(lst))\n",
    "    "
   ]
  },
  {
   "cell_type": "code",
   "execution_count": 25,
   "id": "b85ee2ff-b451-4083-84ed-5c9ee247b438",
   "metadata": {},
   "outputs": [
    {
     "data": {
      "text/plain": [
       "-24"
      ]
     },
     "execution_count": 25,
     "metadata": {},
     "output_type": "execute_result"
    }
   ],
   "source": [
    "#5\n",
    "def mul(lst):\n",
    "    prod=1\n",
    "    for i in lst:\n",
    "        prod*=i\n",
    "    return prod\n",
    "#check \n",
    "lst =[1,2,3,-4]\n",
    "mul(lst)"
   ]
  },
  {
   "cell_type": "code",
   "execution_count": 24,
   "id": "303b0c99-0a08-4907-9378-b9ced110ce92",
   "metadata": {},
   "outputs": [
    {
     "data": {
      "text/plain": [
       "True"
      ]
     },
     "execution_count": 24,
     "metadata": {},
     "output_type": "execute_result"
    }
   ],
   "source": [
    "#6\n",
    "def palindrome(s):\n",
    "    return bool( s== s[::-1] )\n",
    "#check\n",
    "s=\"helleh\"\n",
    "palindrome(s)"
   ]
  },
  {
   "cell_type": "code",
   "execution_count": 1,
   "id": "fc783358-7730-43ee-bd7c-013fb5b480db",
   "metadata": {},
   "outputs": [
    {
     "name": "stdout",
     "output_type": "stream",
     "text": [
      "True\n"
     ]
    }
   ],
   "source": [
    "#7\n",
    "import string \n",
    "def ispangram(s,alphabet=string.ascii_lowercase):\n",
    "    s=s.lower()\n",
    "    for char in alphabet:\n",
    "        if char not in s:\n",
    "            return False\n",
    "    return True\n",
    "s=\"THe quick brown fox jumps over the lazy dog\"\n",
    "print(ispangram(s,alphabet= string.ascii_lowercase))\n",
    "                \n",
    "    "
   ]
  },
  {
   "cell_type": "code",
   "execution_count": null,
   "id": "2e360981-691c-4359-bff4-206f151e6c07",
   "metadata": {},
   "outputs": [],
   "source": []
  }
 ],
 "metadata": {
  "kernelspec": {
   "display_name": "Python 3 (ipykernel)",
   "language": "python",
   "name": "python3"
  },
  "language_info": {
   "codemirror_mode": {
    "name": "ipython",
    "version": 3
   },
   "file_extension": ".py",
   "mimetype": "text/x-python",
   "name": "python",
   "nbconvert_exporter": "python",
   "pygments_lexer": "ipython3",
   "version": "3.9.6"
  }
 },
 "nbformat": 4,
 "nbformat_minor": 5
}
