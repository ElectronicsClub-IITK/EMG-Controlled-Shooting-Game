{
  "cells": [
    {
      "cell_type": "markdown",
      "metadata": {
        "id": "view-in-github",
        "colab_type": "text"
      },
      "source": [
        "<a href=\"https://colab.research.google.com/github/sarthakv18/EMG-Controlled-Shooting-Game/blob/main/Comparison_Operators_assignment.ipynb\" target=\"_parent\"><img src=\"https://colab.research.google.com/assets/colab-badge.svg\" alt=\"Open In Colab\"/></a>"
      ]
    },
    {
      "cell_type": "markdown",
      "metadata": {
        "id": "QRhtB6Zdh747"
      },
      "source": [
        "# Chained Comparison Operators\n",
        "\n",
        "An interesting feature of Python is the ability to *chain* multiple comparisons to perform a more complex test. You can use these chained comparisons as shorthand for larger Boolean Expressions.\n",
        "\n",
        "In this lecture we will learn how to chain comparison operators and we will also introduce two other important statements in Python: **and** and **or**.\n",
        "\n",
        "Let's look at a few examples of using chains:"
      ]
    },
    {
      "cell_type": "code",
      "execution_count": null,
      "metadata": {
        "id": "Ze5wcMdkh74-",
        "outputId": "c4fbbcb2-8c96-45b7-dc14-4a20b14eea27"
      },
      "outputs": [
        {
          "data": {
            "text/plain": [
              "True"
            ]
          },
          "execution_count": 1,
          "metadata": {},
          "output_type": "execute_result"
        }
      ],
      "source": [
        "1 < 2 < 3"
      ]
    },
    {
      "cell_type": "markdown",
      "metadata": {
        "id": "rOivlnSsh75A"
      },
      "source": [
        "The above statement checks if 1 was less than 2 **and** if 2 was less than 3. We could have written this using an **and** statement in Python:"
      ]
    },
    {
      "cell_type": "code",
      "execution_count": null,
      "metadata": {
        "id": "Sa4wzbX8h75A",
        "outputId": "256c30a0-3fa0-4ab8-9b1f-b106387c1ebe"
      },
      "outputs": [
        {
          "data": {
            "text/plain": [
              "True"
            ]
          },
          "execution_count": 2,
          "metadata": {},
          "output_type": "execute_result"
        }
      ],
      "source": [
        "1<2 and 2<3"
      ]
    },
    {
      "cell_type": "markdown",
      "metadata": {
        "id": "vpIlLTG6h75B"
      },
      "source": [
        "The **and** is used to make sure two checks have to be true in order for the total check to be true. Let's see another example:"
      ]
    },
    {
      "cell_type": "code",
      "execution_count": null,
      "metadata": {
        "id": "YQHTMzkmh75B",
        "outputId": "285bc5ac-df62-4e1d-cf01-e6091f12093a"
      },
      "outputs": [
        {
          "data": {
            "text/plain": [
              "True"
            ]
          },
          "execution_count": 3,
          "metadata": {},
          "output_type": "execute_result"
        }
      ],
      "source": [
        "1 < 3 > 2"
      ]
    },
    {
      "cell_type": "markdown",
      "metadata": {
        "id": "qnRH1rBJh75B"
      },
      "source": [
        "The above checks if 3 is larger than both of the other numbers, so you could use **and** to rewrite it as:"
      ]
    },
    {
      "cell_type": "code",
      "execution_count": null,
      "metadata": {
        "id": "c9n3CkXMh75C",
        "outputId": "2f1bde4e-d6ef-410a-e8dc-11e00addb131"
      },
      "outputs": [
        {
          "data": {
            "text/plain": [
              "True"
            ]
          },
          "execution_count": 4,
          "metadata": {},
          "output_type": "execute_result"
        }
      ],
      "source": [
        "1<3 and 3>2"
      ]
    },
    {
      "cell_type": "markdown",
      "metadata": {
        "id": "fryiDn4eh75C"
      },
      "source": [
        "It's important to note that Python is checking both instances of the comparisons. We can also use **or** to write comparisons in Python. For example:"
      ]
    },
    {
      "cell_type": "code",
      "execution_count": null,
      "metadata": {
        "id": "um7E0MRuh75C",
        "outputId": "e96a7309-4f37-45a1-c63e-46f84fffd382"
      },
      "outputs": [
        {
          "data": {
            "text/plain": [
              "True"
            ]
          },
          "execution_count": 5,
          "metadata": {},
          "output_type": "execute_result"
        }
      ],
      "source": [
        "1==2 or 2<3"
      ]
    },
    {
      "cell_type": "markdown",
      "metadata": {
        "id": "onvECRk-h75D"
      },
      "source": [
        "Note how it was true; this is because with the **or** operator, we only need one *or* the other to be true. Let's see one more example to drive this home:"
      ]
    },
    {
      "cell_type": "code",
      "execution_count": null,
      "metadata": {
        "id": "_ZFsJD8ph75D",
        "outputId": "7211646d-fd10-4b4e-de38-59561bb2f4b7"
      },
      "outputs": [
        {
          "data": {
            "text/plain": [
              "True"
            ]
          },
          "execution_count": 6,
          "metadata": {},
          "output_type": "execute_result"
        }
      ],
      "source": [
        "1==1 or 100==1"
      ]
    },
    {
      "cell_type": "markdown",
      "metadata": {
        "id": "epgIhAiph75D"
      },
      "source": [
        "Great! For an overview of this quick lesson: You should have a comfortable understanding of using **and** and **or** statements as well as reading chained comparison code.\n",
        "\n",
        "Go ahead and go to the quiz for this section to check your understanding!"
      ]
    }
  ],
  "metadata": {
    "kernelspec": {
      "display_name": "Python 3",
      "language": "python",
      "name": "python3"
    },
    "language_info": {
      "codemirror_mode": {
        "name": "ipython",
        "version": 3
      },
      "file_extension": ".py",
      "mimetype": "text/x-python",
      "name": "python",
      "nbconvert_exporter": "python",
      "pygments_lexer": "ipython3",
      "version": "3.6.2"
    },
    "colab": {
      "provenance": [],
      "include_colab_link": true
    }
  },
  "nbformat": 4,
  "nbformat_minor": 0
}