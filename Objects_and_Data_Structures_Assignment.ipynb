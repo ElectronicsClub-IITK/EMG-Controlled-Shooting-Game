{
  "cells": [
    {
      "cell_type": "markdown",
      "metadata": {
        "id": "view-in-github",
        "colab_type": "text"
      },
      "source": [
        "<a href=\"https://colab.research.google.com/github/sandeepjnv73/EMG-Controlled-Shooting-Game/blob/main/Objects_and_Data_Structures_Assignment.ipynb\" target=\"_parent\"><img src=\"https://colab.research.google.com/assets/colab-badge.svg\" alt=\"Open In Colab\"/></a>"
      ]
    },
    {
      "cell_type": "markdown",
      "metadata": {
        "id": "8BnP-vJQEsim"
      },
      "source": [
        "# Objects and Data Structures Assessment Test"
      ]
    },
    {
      "cell_type": "markdown",
      "metadata": {
        "collapsed": true,
        "id": "ZI5qjNYOEsjF"
      },
      "source": [
        "## Test your knowledge.\n",
        "\n",
        "** Answer the following questions **"
      ]
    },
    {
      "cell_type": "markdown",
      "metadata": {
        "collapsed": true,
        "id": "ZZT0ebQpEsjG"
      },
      "source": [
        "Write a brief description of all the following Object Types and Data Structures we've learned about:"
      ]
    },
    {
      "cell_type": "markdown",
      "metadata": {
        "id": "EG4oPM1sEsjH"
      },
      "source": [
        "Numbers:\n",
        "\n",
        "Strings:\n",
        "\n",
        "Lists:\n",
        "\n",
        "Tuples:\n",
        "\n",
        "Dictionaries:\n"
      ]
    },
    {
      "cell_type": "markdown",
      "metadata": {
        "id": "IRw0Pp7LEsjI"
      },
      "source": [
        "## Numbers\n",
        "\n",
        "Write an equation that uses multiplication, division, an exponent, addition, and subtraction that is equal to 100.25.\n",
        "\n",
        "Hint: This is just to test your memory of the basic arithmetic commands, work backwards from 100.25"
      ]
    },
    {
      "cell_type": "code",
      "execution_count": null,
      "metadata": {
        "id": "oWwLOKRZEsjK"
      },
      "outputs": [],
      "source": []
    },
    {
      "cell_type": "markdown",
      "metadata": {
        "id": "zDauLq8QEsjO"
      },
      "source": [
        "Answer these 3 questions without typing code. Then type code to check your answer.\n",
        "\n",
        "    What is the value of the expression 4 * (6 + 5)\n",
        "    \n",
        "    What is the value of the expression 4 * 6 + 5\n",
        "    \n",
        "    What is the value of the expression 4 + 6 * 5"
      ]
    },
    {
      "cell_type": "code",
      "execution_count": null,
      "metadata": {
        "colab": {
          "base_uri": "https://localhost:8080/"
        },
        "id": "zwHgf8_-EsjP",
        "outputId": "b4d1a757-6ea9-4835-b46d-a8b865d21cc7"
      },
      "outputs": [
        {
          "output_type": "stream",
          "name": "stdout",
          "text": [
            "44\n",
            "29\n",
            "34\n"
          ]
        }
      ],
      "source": [
        "# first answer 44 #second answer 29  #third answer 34\n",
        "# a=4\n",
        "# b=6\n",
        "# c=5\n",
        "a,b,c=4,6,5\n",
        "print(a*(b+c))\n",
        "print(a*b+c)\n",
        "print(a+b*c)"
      ]
    },
    {
      "cell_type": "markdown",
      "metadata": {
        "id": "kCJSfBMREsjP"
      },
      "source": [
        "What is the *type* of the result of the expression 3 + 1.5 + 4?<br><br>"
      ]
    },
    {
      "cell_type": "markdown",
      "metadata": {
        "id": "NpE9FDfOEsjQ"
      },
      "source": [
        "What would you use to find a number’s square root, as well as its square?"
      ]
    },
    {
      "cell_type": "code",
      "execution_count": null,
      "metadata": {
        "id": "a6HM1VmKEsjo",
        "colab": {
          "base_uri": "https://localhost:8080/"
        },
        "outputId": "34a5afb3-f0d6-4a05-9eeb-d9b272b5c4f2"
      },
      "outputs": [
        {
          "output_type": "stream",
          "name": "stdout",
          "text": [
            "Enter a number:25\n",
            "Square  of a number is 5.0\n"
          ]
        }
      ],
      "source": [
        "# Square root:\n",
        "n = int(input(\"Enter a number:\"))\n",
        "\n",
        "sqr = n**0.5\n",
        "print(\"Square  of a number is\", sqr)"
      ]
    },
    {
      "cell_type": "code",
      "execution_count": null,
      "metadata": {
        "id": "2q2eDY_mEsjq",
        "colab": {
          "base_uri": "https://localhost:8080/"
        },
        "outputId": "1f4976a3-faa6-49a7-d126-1fc0ea76307a"
      },
      "outputs": [
        {
          "output_type": "stream",
          "name": "stdout",
          "text": [
            "Enter a number:25\n",
            "Suare Root of a number is 625\n"
          ]
        }
      ],
      "source": [
        "# Square:\n",
        "n = int(input(\"Enter a number:\"))\n",
        "sqrt = n**2\n",
        "print(\"Suare Root of a number is\", sqrt)"
      ]
    },
    {
      "cell_type": "markdown",
      "metadata": {
        "id": "xD1kvhq6Esjy"
      },
      "source": [
        "## Strings"
      ]
    },
    {
      "cell_type": "markdown",
      "metadata": {
        "id": "u_uO9GEvEsjz"
      },
      "source": [
        "Given the string 'hello' give an index command that returns 'e'. Enter your code in the cell below:"
      ]
    },
    {
      "cell_type": "code",
      "execution_count": null,
      "metadata": {
        "id": "A2K7V_cnEsj0",
        "colab": {
          "base_uri": "https://localhost:8080/"
        },
        "outputId": "f847d0d1-4735-4f40-a13e-ebe5ea216bae"
      },
      "outputs": [
        {
          "output_type": "stream",
          "name": "stdout",
          "text": [
            "e\n"
          ]
        }
      ],
      "source": [
        "s = 'hello'\n",
        "# Print out 'e' using indexing\n",
        "print(s[1])\n"
      ]
    },
    {
      "cell_type": "markdown",
      "metadata": {
        "id": "Nip6fxjwEsj1"
      },
      "source": [
        "Reverse the string 'hello' using slicing:"
      ]
    },
    {
      "cell_type": "code",
      "execution_count": null,
      "metadata": {
        "id": "65xPDK77Esj2",
        "colab": {
          "base_uri": "https://localhost:8080/"
        },
        "outputId": "53bce42d-e62d-48c2-9a34-866d92e64e98"
      },
      "outputs": [
        {
          "output_type": "stream",
          "name": "stdout",
          "text": [
            "olleh\n"
          ]
        }
      ],
      "source": [
        "s ='hello'\n",
        "# Reverse the string using slicing\n",
        "\n",
        "print(s[len(s)::-1])"
      ]
    },
    {
      "cell_type": "markdown",
      "metadata": {
        "id": "5G8nAoUTEsj3"
      },
      "source": [
        "Given the string hello, give two methods of producing the letter 'o' using indexing."
      ]
    },
    {
      "cell_type": "code",
      "execution_count": null,
      "metadata": {
        "id": "qtORD3WMEsj4",
        "colab": {
          "base_uri": "https://localhost:8080/"
        },
        "outputId": "6bd101e6-8832-4262-df22-501192f94ace"
      },
      "outputs": [
        {
          "output_type": "stream",
          "name": "stdout",
          "text": [
            "o\n"
          ]
        }
      ],
      "source": [
        "s ='hello'\n",
        "# Print out the 'o'\n",
        "\n",
        "# Method 1:\n",
        "print (s[4])\n",
        "\n",
        "\n"
      ]
    },
    {
      "cell_type": "code",
      "execution_count": null,
      "metadata": {
        "id": "NC7afOyaEsj5",
        "colab": {
          "base_uri": "https://localhost:8080/"
        },
        "outputId": "5fa2b039-b23d-43ea-ba6a-fd15c2acfd3d"
      },
      "outputs": [
        {
          "output_type": "stream",
          "name": "stdout",
          "text": [
            "o\n"
          ]
        }
      ],
      "source": [
        "# Method 2:\n",
        "\n",
        "print (s[-1])"
      ]
    },
    {
      "cell_type": "markdown",
      "metadata": {
        "id": "xT9f5Wn_Esj6"
      },
      "source": [
        "## Lists"
      ]
    },
    {
      "cell_type": "markdown",
      "metadata": {
        "id": "U_mk2A53Esj7"
      },
      "source": [
        "Build this list [0,0,0] two separate ways."
      ]
    },
    {
      "cell_type": "code",
      "execution_count": null,
      "metadata": {
        "id": "ivldBFeEEsj7",
        "colab": {
          "base_uri": "https://localhost:8080/"
        },
        "outputId": "a316d87c-0f14-41f1-8ecc-634a06c967bd"
      },
      "outputs": [
        {
          "output_type": "stream",
          "name": "stdout",
          "text": [
            "[0, 0, 0]\n",
            "[0, 0]\n",
            "[0, 0, 0]\n"
          ]
        }
      ],
      "source": [
        "# Method 1:\n",
        "a = list ([0,0,0])\n",
        "print (a)\n",
        "a = list([0,0])\n",
        "print (a)\n",
        "a.append(0)\n",
        "print (a)\n"
      ]
    },
    {
      "cell_type": "code",
      "execution_count": null,
      "metadata": {
        "id": "kJdun1QCEskE"
      },
      "outputs": [],
      "source": [
        "# Method 2:\n"
      ]
    },
    {
      "cell_type": "markdown",
      "metadata": {
        "id": "TfVsKROLEskF"
      },
      "source": [
        "Reassign 'hello' in this nested list to say 'goodbye' instead:"
      ]
    },
    {
      "cell_type": "code",
      "execution_count": null,
      "metadata": {
        "id": "ztTGoa7SEskG",
        "colab": {
          "base_uri": "https://localhost:8080/"
        },
        "outputId": "bf27c282-b828-46da-f977-fe5a3dd00ec7"
      },
      "outputs": [
        {
          "output_type": "stream",
          "name": "stdout",
          "text": [
            "[1, 2, [3, 4, 'goodbye']]\n"
          ]
        }
      ],
      "source": [
        "list3 = [1,2,[3,4,'hello']]\n",
        "list3[2][2] = 'goodbye'\n",
        "print(list3)\n"
      ]
    },
    {
      "cell_type": "markdown",
      "metadata": {
        "id": "DLTztYKGEskJ"
      },
      "source": [
        "Sort the list below:"
      ]
    },
    {
      "cell_type": "code",
      "execution_count": null,
      "metadata": {
        "id": "GHuy67zPEskK",
        "colab": {
          "base_uri": "https://localhost:8080/"
        },
        "outputId": "73cbf6d2-5ee2-4a19-8107-19fd8debc863"
      },
      "outputs": [
        {
          "output_type": "stream",
          "name": "stdout",
          "text": [
            "[1, 3, 4, 5, 6]\n"
          ]
        }
      ],
      "source": [
        "list4 = [5,3,4,6,1]\n",
        "\n",
        "list4.sort()\n",
        "print(list4)"
      ]
    },
    {
      "cell_type": "markdown",
      "metadata": {
        "id": "-7fF7WTJEskL"
      },
      "source": [
        "## Dictionaries"
      ]
    },
    {
      "cell_type": "markdown",
      "metadata": {
        "id": "1Et3FpyfEskM"
      },
      "source": [
        "Using keys and indexing, grab the 'hello' from the following dictionaries:"
      ]
    },
    {
      "cell_type": "code",
      "execution_count": null,
      "metadata": {
        "id": "MLnBr7GUEskM",
        "colab": {
          "base_uri": "https://localhost:8080/"
        },
        "outputId": "3193f07e-bedf-492f-e12c-61083808dc10"
      },
      "outputs": [
        {
          "output_type": "stream",
          "name": "stdout",
          "text": [
            "hello\n"
          ]
        }
      ],
      "source": [
        "d = {'simple_key':'hello'}\n",
        "# Grab 'hello'\n",
        "print (d['simple_key'])"
      ]
    },
    {
      "cell_type": "code",
      "execution_count": null,
      "metadata": {
        "id": "OcPbrYXdEskN",
        "colab": {
          "base_uri": "https://localhost:8080/"
        },
        "outputId": "bf46341b-0c42-4a16-9902-9a68803917a7"
      },
      "outputs": [
        {
          "output_type": "stream",
          "name": "stdout",
          "text": [
            "hello\n"
          ]
        }
      ],
      "source": [
        "d = {'k1':{'k2':'hello'}}\n",
        "# Grab 'hello'\n",
        "print (d['k1']['k2'])\n"
      ]
    },
    {
      "cell_type": "code",
      "execution_count": null,
      "metadata": {
        "id": "HXnzTNT3EskQ",
        "colab": {
          "base_uri": "https://localhost:8080/"
        },
        "outputId": "512162cb-978d-49c0-97fc-928fd766ecc7"
      },
      "outputs": [
        {
          "output_type": "stream",
          "name": "stdout",
          "text": [
            "hello\n"
          ]
        }
      ],
      "source": [
        "# Getting a little tricker\n",
        "d = {'k1':[{'nest_key':['this is deep',['hello']]}]}\n",
        "\n",
        "#Grab hello\n",
        "print (d['k1'][0]['nest_key'][1][0])\n"
      ]
    },
    {
      "cell_type": "code",
      "execution_count": null,
      "metadata": {
        "id": "I0TiXaPEEskR",
        "colab": {
          "base_uri": "https://localhost:8080/"
        },
        "outputId": "42c8664f-1d34-4fda-e409-f6735c5ac70e"
      },
      "outputs": [
        {
          "output_type": "stream",
          "name": "stdout",
          "text": [
            "hello\n"
          ]
        }
      ],
      "source": [
        "# This will be hard and annoying!\n",
        "d = {'k1':[1,2,{'k2':['this is tricky',{'tough':[1,2,['hello']]}]}]}\n",
        "print (d['k1'][2]['k2'][1]['tough'][2][0])"
      ]
    },
    {
      "cell_type": "markdown",
      "metadata": {
        "id": "7jDQ2irLEskS"
      },
      "source": [
        "Can you sort a dictionary? Why or why not?<br><br>"
      ]
    },
    {
      "cell_type": "markdown",
      "metadata": {
        "id": "TMyMLxBvEskS"
      },
      "source": [
        "## Tuples"
      ]
    },
    {
      "cell_type": "markdown",
      "metadata": {
        "id": "jivSYh_pEskT"
      },
      "source": [
        "What is the major difference between tuples and lists?<br><br>"
      ]
    },
    {
      "cell_type": "markdown",
      "metadata": {
        "id": "-doEHOTREskU"
      },
      "source": [
        "How do you create a tuple?<br><br>"
      ]
    },
    {
      "cell_type": "markdown",
      "metadata": {
        "id": "A2o-rxJaEskU"
      },
      "source": [
        "## Sets"
      ]
    },
    {
      "cell_type": "markdown",
      "metadata": {
        "id": "FM0AfcaoEslH"
      },
      "source": [
        "What is unique about a set?<br><br>"
      ]
    },
    {
      "cell_type": "markdown",
      "metadata": {
        "id": "VZT_209cEslI"
      },
      "source": [
        "Use a set to find the unique values of the list below:"
      ]
    },
    {
      "cell_type": "code",
      "execution_count": null,
      "metadata": {
        "id": "srrlCK2eEslJ",
        "colab": {
          "base_uri": "https://localhost:8080/"
        },
        "outputId": "60c1233f-6b69-47b8-ca02-194b2dc90005"
      },
      "outputs": [
        {
          "output_type": "execute_result",
          "data": {
            "text/plain": [
              "{1, 2, 3, 4, 11, 22, 33}"
            ]
          },
          "metadata": {},
          "execution_count": 10
        }
      ],
      "source": [
        "list5 = [1,2,2,33,4,4,11,22,3,3,2]\n",
        "\n",
        "set(list5)\n"
      ]
    },
    {
      "cell_type": "markdown",
      "metadata": {
        "id": "uS4IXKyOEslK"
      },
      "source": [
        "## Booleans"
      ]
    },
    {
      "cell_type": "markdown",
      "metadata": {
        "id": "MhF4LQXrEslL"
      },
      "source": [
        "For the following quiz questions, we will get a preview of comparison operators. In the table below, a=3 and b=4.\n",
        "\n",
        "<table class=\"table table-bordered\">\n",
        "<tr>\n",
        "<th style=\"width:10%\">Operator</th><th style=\"width:45%\">Description</th><th>Example</th>\n",
        "</tr>\n",
        "<tr>\n",
        "<td>==</td>\n",
        "<td>If the values of two operands are equal, then the condition becomes true.</td>\n",
        "<td> (a == b) is not true.</td>\n",
        "</tr>\n",
        "<tr>\n",
        "<td>!=</td>\n",
        "<td>If values of two operands are not equal, then condition becomes true.</td>\n",
        "<td> (a != b) is true.</td>\n",
        "</tr>\n",
        "<tr>\n",
        "<td>&gt;</td>\n",
        "<td>If the value of left operand is greater than the value of right operand, then condition becomes true.</td>\n",
        "<td> (a &gt; b) is not true.</td>\n",
        "</tr>\n",
        "<tr>\n",
        "<td>&lt;</td>\n",
        "<td>If the value of left operand is less than the value of right operand, then condition becomes true.</td>\n",
        "<td> (a &lt; b) is true.</td>\n",
        "</tr>\n",
        "<tr>\n",
        "<td>&gt;=</td>\n",
        "<td>If the value of left operand is greater than or equal to the value of right operand, then condition becomes true.</td>\n",
        "<td> (a &gt;= b) is not true. </td>\n",
        "</tr>\n",
        "<tr>\n",
        "<td>&lt;=</td>\n",
        "<td>If the value of left operand is less than or equal to the value of right operand, then condition becomes true.</td>\n",
        "<td> (a &lt;= b) is true. </td>\n",
        "</tr>\n",
        "</table>"
      ]
    },
    {
      "cell_type": "markdown",
      "metadata": {
        "id": "2HJYxEK2EslM"
      },
      "source": [
        "What will be the resulting Boolean of the following pieces of code (answer fist then check by typing it in!)"
      ]
    },
    {
      "cell_type": "code",
      "execution_count": null,
      "metadata": {
        "id": "LkhLtDS7EslM",
        "colab": {
          "base_uri": "https://localhost:8080/"
        },
        "outputId": "22508e2a-79de-4cbf-a5fe-0198035f262c"
      },
      "outputs": [
        {
          "output_type": "execute_result",
          "data": {
            "text/plain": [
              "False"
            ]
          },
          "metadata": {},
          "execution_count": 15
        }
      ],
      "source": [
        "# Answer before running cell\n",
        "2 > 3\n",
        "#false"
      ]
    },
    {
      "cell_type": "code",
      "execution_count": null,
      "metadata": {
        "id": "EnqPkQHREslN"
      },
      "outputs": [],
      "source": [
        "# Answer before running cell\n",
        "3 <= 2\n",
        "#false"
      ]
    },
    {
      "cell_type": "code",
      "execution_count": null,
      "metadata": {
        "id": "mTMEGycFEslO"
      },
      "outputs": [],
      "source": [
        "# Answer before running cell\n",
        "3 == 2.0\n",
        "#false"
      ]
    },
    {
      "cell_type": "code",
      "execution_count": null,
      "metadata": {
        "id": "KhSR9p4TEslP"
      },
      "outputs": [],
      "source": [
        "# Answer before running cell\n",
        "3.0 == 3\n",
        "#true"
      ]
    },
    {
      "cell_type": "code",
      "execution_count": null,
      "metadata": {
        "id": "Mg5mlbaVEslS"
      },
      "outputs": [],
      "source": [
        "# Answer before running cell\n",
        "4**0.5 != 2\n",
        "#false"
      ]
    },
    {
      "cell_type": "markdown",
      "metadata": {
        "id": "N1jqClpTEslT"
      },
      "source": [
        "Final Question: What is the boolean output of the cell block below?"
      ]
    },
    {
      "cell_type": "code",
      "execution_count": null,
      "metadata": {
        "id": "oWY4VcVPEslU"
      },
      "outputs": [],
      "source": [
        "# two nested lists\n",
        "l_one = [1,2,[3,4]]\n",
        "l_two = [1,2,{'k1':4}]\n",
        "\n",
        "# True or False?\n",
        "l_one[2][0] >= l_two[2]['k1']\n",
        "#false"
      ]
    },
    {
      "cell_type": "markdown",
      "metadata": {
        "id": "O08N89SwEslU"
      },
      "source": [
        "## Great Job on your first assessment!"
      ]
    }
  ],
  "metadata": {
    "anaconda-cloud": {},
    "kernelspec": {
      "display_name": "Python 3",
      "language": "python",
      "name": "python3"
    },
    "language_info": {
      "codemirror_mode": {
        "name": "ipython",
        "version": 3
      },
      "file_extension": ".py",
      "mimetype": "text/x-python",
      "name": "python",
      "nbconvert_exporter": "python",
      "pygments_lexer": "ipython3",
      "version": "3.6.2"
    },
    "colab": {
      "provenance": [],
      "include_colab_link": true
    }
  },
  "nbformat": 4,
  "nbformat_minor": 0
}