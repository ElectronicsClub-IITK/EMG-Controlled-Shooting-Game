{
  "cells": [
    {
      "cell_type": "markdown",
      "id": "af908eb5",
      "metadata": {
        "id": "af908eb5"
      },
      "source": [
        "# EMG Signal Processing Assignment"
      ]
    },
    {
      "cell_type": "markdown",
      "id": "5e205e38",
      "metadata": {
        "id": "5e205e38"
      },
      "source": [
        "## Setup\n",
        "    Import necessary libraries: numpy, scipy, matplotlib."
      ]
    },
    {
      "cell_type": "markdown",
      "id": "3c91fb48",
      "metadata": {
        "id": "3c91fb48"
      },
      "source": [
        "## Part 1: Signal Filtering\n",
        "\n",
        "    Task: Implement a Butterworth filter to remove high-frequency noise from the EMG signal.\n",
        "    Task: Compare the frequency response of the original and filtered signals using a frequency plot."
      ]
    },
    {
      "cell_type": "code",
      "execution_count": null,
      "id": "c8534ff3",
      "metadata": {
        "id": "c8534ff3"
      },
      "outputs": [],
      "source": [
        "import numpy as np\n",
        "import matplotlib.pyplot as plt\n",
        "from scipy.signal import butter, filtfilt, find_peaks\n",
        "\n",
        "fs = 1000\n",
        "t = np.arange(0, 1, 1/fs)\n",
        "emg_signal = np.sin(2*np.pi*10*t) + 0.5*np.random.randn(len(t))\n",
        "\n",
        "plt.figure(figsize=(10, 6))\n",
        "plt.plot(t, emg_signal, label='Original EMG Signal')\n",
        "plt.xlabel('Time (s)')\n",
        "plt.ylabel('Amplitude')\n",
        "plt.title('EMG Signal')\n",
        "plt.legend()\n",
        "plt.grid(True)\n",
        "plt.show()"
      ]
    },
    {
      "cell_type": "code",
      "execution_count": null,
      "id": "7af5193f",
      "metadata": {
        "id": "7af5193f"
      },
      "outputs": [],
      "source": [
        "T = 1\n",
        "cutoff = 12\n",
        "nyq = 0.5 * fs\n",
        "order = 2\n",
        "n = int(T*fs)\n",
        "\n",
        "def butter_filter(data, cutoff, fs, order):\n",
        "  normal_cutoff = cutoff/nyq\n",
        "  b, a = butter(order, normal_cutoff, btype='low', analog=False)\n",
        "  y = filtfilt(b, a, data)\n",
        "  return y\n",
        "\n",
        "y = butter_filter(emg_signal, cutoff, fs, order)\n",
        "\n",
        "plt.plot(t, y, label='Filtered signal')\n",
        "plt.xlabel('Time')\n",
        "plt.ylabel('Amplitude')\n",
        "plt.legend()\n",
        "plt.grid(True)\n",
        "plt.show()"
      ]
    },
    {
      "cell_type": "code",
      "execution_count": null,
      "id": "f784564c",
      "metadata": {
        "id": "f784564c"
      },
      "outputs": [],
      "source": [
        "frequencies = np.fft.fftfreq(n, d=1/fs)\n",
        "emg_signal_fft = np.fft.fft(emg_signal)\n",
        "y_fft = np.fft.fft(y)\n",
        "\n",
        "\n",
        "plt.figure(figsize=(10, 6))\n",
        "plt.plot(frequencies[:n//2], np.abs(emg_signal_fft)[:n//2], label='Original EMG Signal')\n",
        "plt.xlabel('Frequency')\n",
        "plt.ylabel('Power')\n",
        "plt.title('Frequency Response of Original EMG Signal')\n",
        "plt.legend()\n",
        "plt.grid(True)\n",
        "plt.show()\n",
        "\n",
        "plt.figure(figsize=(10, 6))\n",
        "plt.plot(frequencies[:n//2], np.abs(y_fft)[:n//2], label='Filtered EMG Signal')\n",
        "plt.xlabel('Frequency')\n",
        "plt.ylabel('Power')\n",
        "plt.title('Frequency Response of Filtered EMG Signal')\n",
        "plt.legend()\n",
        "plt.grid(True)\n",
        "plt.show()\n"
      ]
    },
    {
      "cell_type": "markdown",
      "id": "da25133d",
      "metadata": {
        "id": "da25133d"
      },
      "source": [
        "## Part 2: Peak Detection\n",
        "\n",
        "    Task: Utilize scipy.signal.find_peaks to detect peaks in the filtered EMG signal.\n",
        "    Question: What parameters can be adjusted in find_peaks function to improve peak detection accuracy?\n",
        "    Task: Plot the original signal with markers indicating the detected peaks."
      ]
    },
    {
      "cell_type": "code",
      "execution_count": null,
      "id": "10251f43",
      "metadata": {
        "id": "10251f43"
      },
      "outputs": [],
      "source": [
        "from scipy.signal import find_peaks\n",
        "peaks, properties = find_peaks(y, height=0, distance=20)\n",
        "\n",
        "plt.figure(figsize=(10, 6))\n",
        "plt.plot(t, y, label='Filtered EMG Signal')\n",
        "plt.plot(t[peaks], y[peaks], \"x\", label='Detected Peaks')\n",
        "plt.xlabel('Time')\n",
        "plt.ylabel('Amplitude')\n",
        "plt.title('Filtered EMG Signal with Detected Peaks')\n",
        "plt.legend()\n",
        "plt.grid(True)\n",
        "plt.show()"
      ]
    },
    {
      "cell_type": "markdown",
      "id": "3d2c223d",
      "metadata": {
        "id": "3d2c223d"
      },
      "source": [
        "Answer the Question here:"
      ]
    },
    {
      "cell_type": "code",
      "execution_count": null,
      "id": "d6ae33c3",
      "metadata": {
        "id": "d6ae33c3"
      },
      "outputs": [],
      "source": [
        "#Parameters like height, threshold, width, distance can be adjusted to find peaks accurately."
      ]
    },
    {
      "cell_type": "markdown",
      "id": "08029292",
      "metadata": {
        "id": "08029292"
      },
      "source": [
        "## Part 3: Peak Start and End Time Detection\n",
        "\n",
        "    Task: Develop a method to determine the start and end times of each detected peak.\n",
        "    Question: Why is it necessary to identify the precise onset and offset times of muscle activation in EMG signals?\n",
        "    Task: Visualize the original signal with annotated start and end times of peaks."
      ]
    },
    {
      "cell_type": "code",
      "execution_count": null,
      "id": "a98cb135",
      "metadata": {
        "id": "a98cb135"
      },
      "outputs": [],
      "source": [
        "import numpy as np\n",
        "import matplotlib.pyplot as plt\n",
        "from scipy.signal import butter, filtfilt, find_peaks\n",
        "\n",
        "fs = 1000\n",
        "t = np.arange(0, 1, 1/fs)\n",
        "emg_signal = np.sin(2*np.pi*10*t) + 0.5*np.random.randn(len(t))\n",
        "\n",
        "cutoff = 12\n",
        "nyq = 0.5 * fs\n",
        "order = 2\n",
        "T=1\n",
        "\n",
        "def butter_filter(data, cutoff, fs, order):\n",
        "  normal_cutoff = cutoff/nyq\n",
        "  b, a = butter(order, normal_cutoff, btype='low', analog=False)\n",
        "  y = filtfilt(b, a, data)\n",
        "  return y\n",
        "\n",
        "y = butter_filter(emg_signal, cutoff, fs, order)\n",
        "\n",
        "peaks, _ = find_peaks(y, height=0, distance=20)\n",
        "\n",
        "######\n",
        "\n",
        "\n",
        "plt.xlabel('Time')\n",
        "plt.ylabel('Amplitude')\n",
        "plt.title('Filtered EMG Signal with Annotated Start and End Times of Peaks')\n",
        "plt.legend()\n",
        "plt.grid(True)\n",
        "plt.show()\n"
      ]
    },
    {
      "cell_type": "markdown",
      "id": "fef2fa1f",
      "metadata": {
        "id": "fef2fa1f"
      },
      "source": [
        "Answer the Question here:"
      ]
    },
    {
      "cell_type": "code",
      "execution_count": null,
      "id": "ae1388cf",
      "metadata": {
        "id": "ae1388cf"
      },
      "outputs": [],
      "source": [
        "#"
      ]
    },
    {
      "cell_type": "markdown",
      "id": "a76458a5",
      "metadata": {
        "id": "a76458a5"
      },
      "source": [
        "## Part 4: Envelope Extraction\n",
        "\n",
        "    Task: Implement the Hilbert transform to extract the envelope of the filtered EMG signal.\n",
        "    Question: What information does the envelope of an EMG signal provide about muscle activity?\n",
        "    Task: Plot the original signal overlaid with its envelope."
      ]
    },
    {
      "cell_type": "code",
      "execution_count": null,
      "id": "f84c07fa",
      "metadata": {
        "id": "f84c07fa"
      },
      "outputs": [],
      "source": [
        "import numpy as np\n",
        "import matplotlib.pyplot as plt\n",
        "from scipy.signal import butter, filtfilt, find_peaks, hilbert\n",
        "\n",
        "# Generate example EMG signal with noise\n",
        "fs = 1000  # Sampling frequency (Hz)\n",
        "t = np.arange(0, 1, 1/fs)  # Time vector (1 second)\n",
        "emg_signal = np.sin(2*np.pi*10*t) + 0.5*np.random.randn(len(t))\n",
        "\n",
        "cutoff = 12\n",
        "nyq = 0.5 * fs\n",
        "order = 2\n",
        "T=1\n",
        "\n",
        "def butter_filter(data, cutoff, fs, order):\n",
        "  normal_cutoff = cutoff/nyq\n",
        "  b, a = butter(order, normal_cutoff, btype='low', analog=False)\n",
        "  y = filtfilt(b, a, data)\n",
        "  return y\n",
        "\n",
        "y = butter_filter(emg_signal, cutoff, fs, order)\n",
        "\n",
        "analytic_signal = hilbert(y)\n",
        "envelope = np.abs(analytic_signal)\n",
        "\n",
        "plt.figure(figsize=(10, 6))\n",
        "plt.plot(t, y, label='Filtered EMG Signal', color='orange')\n",
        "plt.plot(t, envelope, label='Envelope', color='blue')\n",
        "plt.xlabel('Time')\n",
        "plt.ylabel('Amplitude')\n",
        "plt.title('Filtered EMG Signal Overlaid with Envelope')\n",
        "plt.legend()\n",
        "plt.grid(True)\n",
        "plt.show()\n"
      ]
    },
    {
      "cell_type": "markdown",
      "id": "ceeb1a2f",
      "metadata": {
        "id": "ceeb1a2f"
      },
      "source": [
        "Answer the Question here:"
      ]
    },
    {
      "cell_type": "code",
      "execution_count": null,
      "id": "ae582cc7",
      "metadata": {
        "id": "ae582cc7"
      },
      "outputs": [],
      "source": [
        "#"
      ]
    },
    {
      "cell_type": "markdown",
      "id": "96e497ff",
      "metadata": {
        "id": "96e497ff"
      },
      "source": [
        "## Part 5: Time Domain Analysis\n",
        "\n",
        "    Task: Calculate key metrics such as mean, variance, and RMS (Root Mean Square) of the cleaned EMG signal.\n",
        "    Task: Interpret the calculated metrics in the context of muscle activity and signal characteristics."
      ]
    },
    {
      "cell_type": "code",
      "execution_count": null,
      "id": "d1369172",
      "metadata": {
        "id": "d1369172"
      },
      "outputs": [],
      "source": [
        "import numpy as np\n",
        "import matplotlib.pyplot as plt\n",
        "from scipy.signal import butter, filtfilt, hilbert\n",
        "\n",
        "# Generate example EMG signal with noise\n",
        "fs = 1000  # Sampling frequency (Hz)\n",
        "t = np.arange(0, 1, 1/fs)  # Time vector (1 second)\n",
        "emg_signal = np.sin(2*np.pi*10*t) + 0.5*np.random.randn(len(t))\n",
        "\n",
        "cutoff = 12\n",
        "nyq = 0.5 * fs\n",
        "order = 2\n",
        "T=1\n",
        "\n",
        "def butter_filter(data, cutoff, fs, order):\n",
        "  normal_cutoff = cutoff/nyq\n",
        "  b, a = butter(order, normal_cutoff, btype='low', analog=False)\n",
        "  y = filtfilt(b, a, data)\n",
        "  return y\n",
        "\n",
        "y = butter_filter(emg_signal, cutoff, fs, order)\n",
        "\n",
        "mean_value = np.mean(y)\n",
        "variance_value = np.var(y)\n",
        "rms_value = np.sqrt(np.mean(y**2))\n",
        "\n",
        "print(f\"Mean: {mean_value:.4f}\")\n",
        "print(f\"Variance: {variance_value:.4f}\")\n",
        "print(f\"RMS: {rms_value:.4f}\")"
      ]
    },
    {
      "cell_type": "markdown",
      "id": "892f3ab9",
      "metadata": {
        "id": "892f3ab9"
      },
      "source": []
    },
    {
      "cell_type": "markdown",
      "id": "b3bc300a",
      "metadata": {
        "id": "b3bc300a"
      },
      "source": [
        "## Part 6: Frequency Domain Analysis\n",
        "\n",
        "    Task: Apply the Fast Fourier Transform (FFT) to analyze the frequency components of the cleaned EMG signal.\n",
        "    Task: Plot the frequency spectrum of the EMG signal and identify prominent frequency peaks."
      ]
    },
    {
      "cell_type": "code",
      "execution_count": null,
      "id": "592f3fbd",
      "metadata": {
        "id": "592f3fbd"
      },
      "outputs": [],
      "source": [
        "import numpy as np\n",
        "import matplotlib.pyplot as plt\n",
        "from scipy.signal import butter, filtfilt\n",
        "\n",
        "# Generate example EMG signal with noise\n",
        "fs = 1000  # Sampling frequency (Hz)\n",
        "t = np.arange(0, 1, 1/fs)  # Time vector (1 second)\n",
        "emg_signal = np.sin(2*np.pi*10*t) + 0.5*np.random.randn(len(t))\n",
        "cutoff = 12\n",
        "nyq = 0.5 * fs\n",
        "order = 2\n",
        "T=1\n",
        "\n",
        "def butter_filter(data, cutoff, fs, order):\n",
        "  normal_cutoff = cutoff/nyq\n",
        "  b, a = butter(order, normal_cutoff, btype='low', analog=False)\n",
        "  y = filtfilt(b, a, data)\n",
        "  return y\n",
        "\n",
        "y = butter_filter(emg_signal, cutoff, fs, order)\n",
        "n = int(T*fs)\n",
        "frequencies = np.fft.fftfreq(n, d=1/fs)\n",
        "fft_values = np.fft.fft(y)\n",
        "\n",
        "power = np.abs(fft_values) / n\n",
        "\n",
        "positive_frequencies = frequencies[:n//2]\n",
        "positive_power = power[:n//2]\n",
        "\n",
        "plt.figure(figsize=(10, 6))\n",
        "plt.plot(positive_frequencies, positive_power, label='Magnitude Spectrum')\n",
        "plt.xlabel('Frequency')\n",
        "plt.ylabel('Power')\n",
        "plt.title('Frequency Spectrum of Filtered EMG Signal')\n",
        "plt.grid(True)\n",
        "plt.legend()\n",
        "plt.show()"
      ]
    }
  ],
  "metadata": {
    "kernelspec": {
      "display_name": "Python 3 (ipykernel)",
      "language": "python",
      "name": "python3"
    },
    "language_info": {
      "codemirror_mode": {
        "name": "ipython",
        "version": 3
      },
      "file_extension": ".py",
      "mimetype": "text/x-python",
      "name": "python",
      "nbconvert_exporter": "python",
      "pygments_lexer": "ipython3",
      "version": "3.11.3"
    },
    "colab": {
      "provenance": [],
      "toc_visible": true
    }
  },
  "nbformat": 4,
  "nbformat_minor": 5
}
