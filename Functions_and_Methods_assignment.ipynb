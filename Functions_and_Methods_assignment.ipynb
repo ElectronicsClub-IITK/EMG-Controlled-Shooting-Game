{
  "cells": [
    {
      "cell_type": "markdown",
      "metadata": {
        "id": "view-in-github",
        "colab_type": "text"
      },
      "source": [
        "<a href=\"https://colab.research.google.com/github/sarthakv18/EMG-Controlled-Shooting-Game/blob/main/Functions_and_Methods_assignment.ipynb\" target=\"_parent\"><img src=\"https://colab.research.google.com/assets/colab-badge.svg\" alt=\"Open In Colab\"/></a>"
      ]
    },
    {
      "cell_type": "markdown",
      "metadata": {
        "id": "TG13gFzZWjpl"
      },
      "source": [
        "# Functions and Methods Homework\n",
        "\n",
        "Complete the following questions:\n",
        "____\n",
        "**Write a function that computes the volume of a sphere given its radius.**\n",
        "<p>The volume of a sphere is given as $$\\frac{4}{3} πr^3$$</p>"
      ]
    },
    {
      "cell_type": "code",
      "execution_count": null,
      "metadata": {
        "id": "wHIk2KYKWjpo"
      },
      "outputs": [],
      "source": [
        "def vol(rad):\n",
        "    x=(4/3)*3.14*rad*rad*rad\n",
        "    return x"
      ]
    },
    {
      "cell_type": "code",
      "execution_count": null,
      "metadata": {
        "colab": {
          "base_uri": "https://localhost:8080/"
        },
        "id": "OPAj3MteWjpp",
        "outputId": "a95b335f-198c-40ec-f4e5-3566baba3ffd"
      },
      "outputs": [
        {
          "output_type": "execute_result",
          "data": {
            "text/plain": [
              "33.49333333333333"
            ]
          },
          "metadata": {},
          "execution_count": 2
        }
      ],
      "source": [
        "# Check\n",
        "vol(2)"
      ]
    },
    {
      "cell_type": "markdown",
      "metadata": {
        "id": "vXnXcaPxWjpr"
      },
      "source": [
        "___\n",
        "**Write a function that checks whether a number is in a given range (inclusive of high and low)**"
      ]
    },
    {
      "cell_type": "code",
      "execution_count": null,
      "metadata": {
        "id": "vBDxM344Wjpr"
      },
      "outputs": [],
      "source": [
        "def ran_check(num,low,high):\n",
        "    if low<=num<=high:\n",
        "      print(num,' is in the range between ',low,' and ',high)\n",
        "    else:\n",
        "      print(num,' is not in the range between ',low,' and ',high)"
      ]
    },
    {
      "cell_type": "code",
      "execution_count": null,
      "metadata": {
        "colab": {
          "base_uri": "https://localhost:8080/"
        },
        "id": "VZl1kEeEWjpr",
        "outputId": "94595947-5284-47ec-e658-2eca2cf39f79"
      },
      "outputs": [
        {
          "output_type": "stream",
          "name": "stdout",
          "text": [
            "5  is in the range between  2  and  7\n"
          ]
        }
      ],
      "source": [
        "# Check\n",
        "ran_check(5,2,7)"
      ]
    },
    {
      "cell_type": "markdown",
      "metadata": {
        "id": "FYnSkjWvWjps"
      },
      "source": [
        "If you only wanted to return a boolean:"
      ]
    },
    {
      "cell_type": "code",
      "execution_count": null,
      "metadata": {
        "id": "g5K-ASihWjps"
      },
      "outputs": [],
      "source": [
        "def ran_bool(num,low,high):\n",
        "    if low<=num<=high:\n",
        "      return True\n",
        "    else:\n",
        "      return False"
      ]
    },
    {
      "cell_type": "code",
      "execution_count": null,
      "metadata": {
        "colab": {
          "base_uri": "https://localhost:8080/"
        },
        "id": "g-LpGA6DWjps",
        "outputId": "3a6cc4d6-f059-4dbb-9c49-7d39e6d23888"
      },
      "outputs": [
        {
          "output_type": "execute_result",
          "data": {
            "text/plain": [
              "True"
            ]
          },
          "metadata": {},
          "execution_count": 6
        }
      ],
      "source": [
        "ran_bool(3,1,10)"
      ]
    },
    {
      "cell_type": "markdown",
      "metadata": {
        "id": "0KI0lBPPWjpt"
      },
      "source": [
        "____\n",
        "**Write a Python function that accepts a string and calculates the number of upper case letters and lower case letters.**\n",
        "\n",
        "    Sample String : 'Hello Mr. Rogers, how are you this fine Tuesday?'\n",
        "    Expected Output :\n",
        "    No. of Upper case characters : 4\n",
        "    No. of Lower case Characters : 33\n",
        "\n",
        "HINT: Two string methods that might prove useful: **.isupper()** and **.islower()**\n",
        "\n",
        "If you feel ambitious, explore the Collections module to solve this problem!"
      ]
    },
    {
      "cell_type": "code",
      "execution_count": null,
      "metadata": {
        "id": "zji88rdPWjpt"
      },
      "outputs": [],
      "source": [
        "def up_low(s):\n",
        "    up=0\n",
        "    low=0\n",
        "    for x in s:\n",
        "      if x.isupper():\n",
        "        up=up+1\n",
        "      elif x.islower():\n",
        "        low=low+1\n",
        "    print('No. of Upper case characters : ',up)\n",
        "    print('No. of Lower case Characters : ',low)"
      ]
    },
    {
      "cell_type": "code",
      "execution_count": null,
      "metadata": {
        "colab": {
          "base_uri": "https://localhost:8080/"
        },
        "id": "KgHed9h8Wjpt",
        "outputId": "ffcc6942-af30-4518-bb2b-d3c51a277e70"
      },
      "outputs": [
        {
          "output_type": "stream",
          "name": "stdout",
          "text": [
            "No. of Upper case characters :  4\n",
            "No. of Lower case Characters :  33\n"
          ]
        }
      ],
      "source": [
        "s = 'Hello Mr. Rogers, how are you this fine Tuesday?'\n",
        "up_low(s)"
      ]
    },
    {
      "cell_type": "markdown",
      "metadata": {
        "id": "cMT03oy_Wjpu"
      },
      "source": [
        "____\n",
        "**Write a Python function that takes a list and returns a new list with unique elements of the first list.**\n",
        "\n",
        "    Sample List : [1,1,1,1,2,2,3,3,3,3,4,5]\n",
        "    Unique List : [1, 2, 3, 4, 5]"
      ]
    },
    {
      "cell_type": "code",
      "execution_count": null,
      "metadata": {
        "id": "YL0ZhYGvWjpu"
      },
      "outputs": [],
      "source": [
        "def unique_list(lst):\n",
        "    print(set(lst))"
      ]
    },
    {
      "cell_type": "code",
      "execution_count": null,
      "metadata": {
        "colab": {
          "base_uri": "https://localhost:8080/"
        },
        "id": "adciPkmBWjpu",
        "outputId": "b2171722-6720-491f-f7d9-c7d1a70d3836"
      },
      "outputs": [
        {
          "output_type": "stream",
          "name": "stdout",
          "text": [
            "{1, 2, 3, 4, 5}\n"
          ]
        }
      ],
      "source": [
        "unique_list([1,1,1,1,2,2,3,3,3,3,4,5])"
      ]
    },
    {
      "cell_type": "markdown",
      "metadata": {
        "id": "kTK0JNN-Wjpu"
      },
      "source": [
        "____\n",
        "**Write a Python function to multiply all the numbers in a list.**\n",
        "\n",
        "    Sample List : [1, 2, 3, -4]\n",
        "    Expected Output : -24"
      ]
    },
    {
      "cell_type": "code",
      "execution_count": null,
      "metadata": {
        "id": "24-EEwR1Wjpv"
      },
      "outputs": [],
      "source": [
        "def multiply(numbers):\n",
        "    x=1\n",
        "    for i in numbers:\n",
        "      x=x*i\n",
        "    return x"
      ]
    },
    {
      "cell_type": "code",
      "execution_count": null,
      "metadata": {
        "colab": {
          "base_uri": "https://localhost:8080/"
        },
        "id": "j7Ew7IcAWjpv",
        "outputId": "5318be4c-5bce-4af9-8384-09715fd41d88"
      },
      "outputs": [
        {
          "output_type": "execute_result",
          "data": {
            "text/plain": [
              "-24"
            ]
          },
          "metadata": {},
          "execution_count": 14
        }
      ],
      "source": [
        "multiply([1,2,3,-4])"
      ]
    },
    {
      "cell_type": "markdown",
      "metadata": {
        "id": "WUUhhjSpWjpv"
      },
      "source": [
        "____\n",
        "**Write a Python function that checks whether a passed in string is palindrome or not.**\n",
        "\n",
        "Note: A palindrome is word, phrase, or sequence that reads the same backward as forward, e.g., madam or nurses run."
      ]
    },
    {
      "cell_type": "code",
      "execution_count": null,
      "metadata": {
        "id": "eZ0gXhkiWjpv"
      },
      "outputs": [],
      "source": [
        "def palindrome(s):\n",
        "    for i in range (len(s)):\n",
        "      if s[i]!=s[-1-i]:\n",
        "        return False\n",
        "    print('True')"
      ]
    },
    {
      "cell_type": "code",
      "execution_count": null,
      "metadata": {
        "colab": {
          "base_uri": "https://localhost:8080/"
        },
        "id": "LzsM0FRhWjpv",
        "outputId": "319b8444-4807-49da-a946-10d78f07ceda"
      },
      "outputs": [
        {
          "output_type": "stream",
          "name": "stdout",
          "text": [
            "True\n"
          ]
        }
      ],
      "source": [
        "palindrome('helleh')"
      ]
    },
    {
      "cell_type": "markdown",
      "metadata": {
        "id": "giaBJmqOWjpw"
      },
      "source": [
        "____\n",
        "#### Hard:\n",
        "\n",
        "**Write a Python function to check whether a string is pangram or not.**\n",
        "\n",
        "    Note : Pangrams are words or sentences containing every letter of the alphabet at least once.\n",
        "    For example : \"The quick brown fox jumps over the lazy dog\"\n",
        "\n",
        "Hint: Look at the string module"
      ]
    },
    {
      "cell_type": "code",
      "execution_count": null,
      "metadata": {
        "id": "8VJSRhTnWjpw"
      },
      "outputs": [],
      "source": [
        "import string\n",
        "\n",
        "def ispangram(str1, alphabet=string.ascii_lowercase):\n",
        "    for i in alphabet:\n",
        "      if i not in str1:\n",
        "        return False\n",
        "    print('True')"
      ]
    },
    {
      "cell_type": "code",
      "execution_count": null,
      "metadata": {
        "colab": {
          "base_uri": "https://localhost:8080/"
        },
        "id": "kL8KUbsfWjpw",
        "outputId": "91e35c7b-1b74-4b35-d124-c2835c3b87ac"
      },
      "outputs": [
        {
          "output_type": "stream",
          "name": "stdout",
          "text": [
            "True\n"
          ]
        }
      ],
      "source": [
        "ispangram(\"The quick brown fox jumps over the lazy dog\")"
      ]
    },
    {
      "cell_type": "code",
      "execution_count": null,
      "metadata": {
        "id": "1_IpwXSCWjpx",
        "outputId": "26cebd00-aaf0-473f-bc07-dcf84e7cae67"
      },
      "outputs": [
        {
          "data": {
            "text/plain": [
              "'abcdefghijklmnopqrstuvwxyz'"
            ]
          },
          "execution_count": 17,
          "metadata": {},
          "output_type": "execute_result"
        }
      ],
      "source": [
        "string.ascii_lowercase"
      ]
    },
    {
      "cell_type": "markdown",
      "metadata": {
        "collapsed": true,
        "id": "cDFOLW_eWjpx"
      },
      "source": [
        "#### Great Job!"
      ]
    }
  ],
  "metadata": {
    "kernelspec": {
      "display_name": "Python 3",
      "language": "python",
      "name": "python3"
    },
    "language_info": {
      "codemirror_mode": {
        "name": "ipython",
        "version": 3
      },
      "file_extension": ".py",
      "mimetype": "text/x-python",
      "name": "python",
      "nbconvert_exporter": "python",
      "pygments_lexer": "ipython3",
      "version": "3.6.2"
    },
    "colab": {
      "provenance": [],
      "include_colab_link": true
    }
  },
  "nbformat": 4,
  "nbformat_minor": 0
}